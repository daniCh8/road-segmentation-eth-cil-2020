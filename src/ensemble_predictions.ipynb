{
 "cells": [
  {
   "cell_type": "code",
   "execution_count": null,
   "metadata": {},
   "outputs": [],
   "source": [
    "from model import NNet"
   ]
  },
  {
   "cell_type": "code",
   "execution_count": null,
   "metadata": {},
   "outputs": [],
   "source": [
    "model_1 = NNet(model_to_load='../checkpoints/u_xception_final_dice.h5')\n",
    "model_2 = NNet(model_to_load='../checkpoints/ures_xception_final_dice.h5')\n",
    "model_3 = NNet(model_to_load='../checkpoints/uspp_xception_final_dice.h5')\n",
    "model_4 = NNet(model_to_load='../checkpoints/u_resnet50v2_final_dice.h5')\n",
    "model_5 = NNet(model_to_load='../checkpoints/ures_resnet50v2_final_dice.h5')\n",
    "model_6 = NNet(model_to_load='../checkpoints/uspp_resnet50v2_final_dice.h5')\n",
    "models = [model_1, model_2, model_3, model_4, model_5, model_6]"
   ]
  },
  {
   "cell_type": "code",
   "execution_count": null,
   "metadata": {},
   "outputs": [],
   "source": [
    "predictions = []\n",
    "\n",
    "for model in models:\n",
    "    predictions.append(model.predict_test_data())"
   ]
  },
  {
   "cell_type": "code",
   "execution_count": null,
   "metadata": {},
   "outputs": [],
   "source": [
    "import numpy as np\n",
    "\n",
    "mean_ensemble = np.mean(np.array(predictions), axis=0)"
   ]
  },
  {
   "cell_type": "code",
   "execution_count": null,
   "metadata": {},
   "outputs": [],
   "source": [
    "assert model_1.test_data_gen.numbers == model_2.test_data_gen.numbers == \\\n",
    "       model_3.test_data_gen.numbers == model_4.test_data_gen.numbers == \\\n",
    "       model_4.test_data_gen.numbers == model_5.test_data_gen.numbers == \\\n",
    "       model_6.test_data_gen.numbers"
   ]
  },
  {
   "cell_type": "code",
   "execution_count": null,
   "metadata": {},
   "outputs": [],
   "source": [
    "model_1.test_images_predictions = mean_ensemble"
   ]
  },
  {
   "cell_type": "code",
   "execution_count": null,
   "metadata": {},
   "outputs": [],
   "source": [
    "submission_path = '../submission_mean_ensemble_4_models.csv'\n",
    "mean_sub = model_1.create_submission_file(path=submission_path, treshold=.4)"
   ]
  },
  {
   "cell_type": "code",
   "execution_count": null,
   "metadata": {},
   "outputs": [],
   "source": [
    "model_1.display_test_predictions(submission_path)"
   ]
  }
 ],
 "metadata": {
  "environment": {
   "name": "tf-gpu.1-15.m47",
   "type": "gcloud",
   "uri": "gcr.io/deeplearning-platform-release/tf-gpu.1-15:m47"
  },
  "kernelspec": {
   "display_name": "Python 3",
   "language": "python",
   "name": "python3"
  },
  "language_info": {
   "codemirror_mode": {
    "name": "ipython",
    "version": 3
   },
   "file_extension": ".py",
   "mimetype": "text/x-python",
   "name": "python",
   "nbconvert_exporter": "python",
   "pygments_lexer": "ipython3",
   "version": "3.7.6"
  }
 },
 "nbformat": 4,
 "nbformat_minor": 4
}
